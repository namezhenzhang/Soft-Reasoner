{
 "cells": [
  {
   "cell_type": "code",
   "execution_count": 1,
   "metadata": {},
   "outputs": [],
   "source": [
    "import jsonlines\n",
    "import numpy as np\n",
    "import torch\n",
    "import matplotlib.pyplot as plt\n",
    "import re\n",
    "import os\n",
    "from collections import defaultdict"
   ]
  },
  {
   "cell_type": "code",
   "execution_count": null,
   "metadata": {},
   "outputs": [],
   "source": [
    "def get_rules(filename):\n",
    "    '''所有id下，所有rules'''\n",
    "    with open(filename, \"r+\", encoding=\"utf8\") as f:\n",
    "        rules = []\n",
    "        reader = jsonlines.Reader(f)\n",
    "        for item in reader:\n",
    "            rules_per_id = []\n",
    "            for key in item[\"rules\"].keys():\n",
    "                rules_per_id.append(item[\"rules\"][key][\"representation\"])\n",
    "            rules.append(rules_per_id)\n",
    "    return rules"
   ]
  },
  {
   "cell_type": "code",
   "execution_count": null,
   "metadata": {},
   "outputs": [],
   "source": [
    "def get_len_pair(rules):\n",
    "    rules_pair = []\n",
    "    for id in rules:\n",
    "        rules_pair_per_id = []\n",
    "        for rule in id:\n",
    "            matchObj = re.match( r'\\(\\((.*)\\)\\s->\\s\\((.*)\\)\\)', rule, re.M|re.I)\n",
    "            if_list = []\n",
    "            then_list = []\n",
    "            if matchObj:\n",
    "                if_ = matchObj.group(1)\n",
    "                if if_[0]=='(':\n",
    "                    # 提取多个条件\n",
    "                    if_count = if_.count('(')\n",
    "                    regular = (r'\\((.+)\\)\\s'*if_count)[:-2]\n",
    "                    match_if = re.match(regular, if_, re.M|re.I)\n",
    "                    for if_item in range(if_count):\n",
    "                        if_list.append(match_if.group(if_item+1))\n",
    "                else: \n",
    "                    # 添加单个条件\n",
    "                    print('error')\n",
    "                    exit(1)\n",
    "                then_ = matchObj.group(2)\n",
    "                if then_[0]=='(':\n",
    "                    # 提取多个结果\n",
    "                    print('error')\n",
    "                    exit(2)\n",
    "                else:\n",
    "                    # 添加单个结果\n",
    "                    then_list.append(then_)\n",
    "            else:\n",
    "                print('fail',rule)\n",
    "                exit(3)\n",
    "            rules_pair_per_id.append([if_list,then_list])\n",
    "        rules_pair.append(rules_pair_per_id)\n",
    "    return rules_pair"
   ]
  },
  {
   "cell_type": "code",
   "execution_count": null,
   "metadata": {},
   "outputs": [],
   "source": [
    "def get_if_then_map(if_then_pair):\n",
    "    if_then_map = []\n",
    "    for id in if_then_pair:\n",
    "        if_dict = defaultdict(list)\n",
    "        then_dict = defaultdict(list)\n",
    "        for pair in id:\n",
    "            # pair[0] if\n",
    "            for if_ in pair[0]:\n",
    "                for then_ in pair[1]:\n",
    "                    if_dict[if_].append(then_)\n",
    "            # pair[1] then\n",
    "            for then_ in pair[1]:\n",
    "                for if_ in pair[0]:\n",
    "                    then_dict[then_].append(if_)\n",
    "        if_then_map.append([if_dict,then_dict])\n",
    "    return if_then_map"
   ]
  },
  {
   "cell_type": "code",
   "execution_count": null,
   "metadata": {},
   "outputs": [],
   "source": [
    "def plot_if_then_count_bar(path = None):\n",
    "    if path==None:\n",
    "        exit(1)\n",
    "    if_then_map = get_if_then_map(get_len_pair(get_rules(path)))\n",
    "    max_len = 12\n",
    "    bar_width = 0.2\n",
    "    if_count = np.zeros(max_len)\n",
    "    then_count = np.zeros(max_len)\n",
    "    for pair in if_then_map:\n",
    "        for if_key in pair[0]:\n",
    "            if_count[len(pair[0][if_key])] += 1\n",
    "        for then_key in pair[1]:\n",
    "            then_count[len(pair[1][then_key])] += 1\n",
    "    plt.figure(figsize=(10,5))\n",
    "    X1 = np.array(list(range(max_len)))-bar_width\n",
    "    Y1 = if_count\n",
    "    X2 = np.array(list(range(max_len)))+bar_width\n",
    "    Y2 = then_count\n",
    "    plt.bar(X1,Y1,width=2*bar_width,label = 'if')\n",
    "    plt.bar(X2,Y2,width=2*bar_width,label = 'then')\n",
    "    for a,b in zip(X1,Y1): \n",
    "        plt.text(a, b+100, '%d' % b, rotation=90, ha='center', va= 'bottom',fontsize=11) \n",
    "    for a,b in zip(X2,Y2): \n",
    "        plt.text(a, b+100, '%d' % b, rotation=90, ha='center', va= 'bottom',fontsize=11)  \n",
    "    plt.legend()\n",
    "    p1,p2 = os.path.split(path)\n",
    "    p3,p4 = os.path.split(p1)\n",
    "    plt.title(p4+'/'+p2)\n",
    "    plt.show()"
   ]
  },
  {
   "cell_type": "code",
   "execution_count": null,
   "metadata": {},
   "outputs": [],
   "source": [
    "data_paths = [\n",
    "\n",
    "    # 'data/rule-reasoning-dataset-V2020.2.5.0/original/depth-{}/meta-dev.jsonl',\n",
    "    # 'data/rule-reasoning-dataset-V2020.2.5.0/original/depth-{}/meta-test.jsonl', \n",
    "    'data/rule-reasoning-dataset-V2020.2.5.0/original/depth-{}/meta-train.jsonl', \n",
    "]\n",
    "\n",
    "for i in [0,1,2,3,5]:\n",
    "    for j in data_paths:\n",
    "        plot_if_then_count_bar(j.format(i))"
   ]
  },
  {
   "cell_type": "code",
   "execution_count": 6,
   "metadata": {},
   "outputs": [],
   "source": [
    "matchObj = re.match( '\"(.+)\" \"is\" \"smart\"', '\"something\" \"is\" \"smart\" \"+\"', re.M|re.I)\n"
   ]
  },
  {
   "cell_type": "code",
   "execution_count": 10,
   "metadata": {},
   "outputs": [
    {
     "data": {
      "text/plain": [
       "1"
      ]
     },
     "execution_count": 10,
     "metadata": {},
     "output_type": "execute_result"
    }
   ],
   "source": [
    "matchObj.lastindex"
   ]
  },
  {
   "cell_type": "code",
   "execution_count": null,
   "metadata": {},
   "outputs": [],
   "source": []
  }
 ],
 "metadata": {
  "interpreter": {
   "hash": "6e7530b5c6ad25f8639b76b852824d47ecfdce0c622327b6818fcb6e8d39086e"
  },
  "kernelspec": {
   "display_name": "Python 3.6.13 64-bit ('bert_env': conda)",
   "name": "python3"
  },
  "language_info": {
   "codemirror_mode": {
    "name": "ipython",
    "version": 3
   },
   "file_extension": ".py",
   "mimetype": "text/x-python",
   "name": "python",
   "nbconvert_exporter": "python",
   "pygments_lexer": "ipython3",
   "version": "3.6.13"
  },
  "orig_nbformat": 4
 },
 "nbformat": 4,
 "nbformat_minor": 2
}
